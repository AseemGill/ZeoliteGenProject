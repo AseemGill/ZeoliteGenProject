{
 "cells": [
  {
   "cell_type": "code",
   "execution_count": 2,
   "metadata": {},
   "outputs": [],
   "source": [
    "import pandas as pd\n",
    "#Import Packages\n",
    "import ase\n",
    "import os\n",
    "from ase.io import read\n",
    "import numpy as np\n",
    "import csv\n",
    "from ase.io.jsonio import read_json\n",
    "import json\n",
    "from scipy.stats import rankdata\n",
    "from ase.visualize import view\n",
    "import pandas as pd\n",
    "import matplotlib.pyplot as plt\n",
    "import seaborn as sns\n",
    "\n",
    "import torch\n",
    "import torch.nn.functional as F\n",
    "from torch_geometric.data import Dataset, Data, InMemoryDataset\n",
    "from torch_geometric.loader import DataLoader\n",
    "from torch_geometric.utils import dense_to_sparse, degree, add_self_loops\n",
    "\n",
    "import os.path as osp\n",
    "\n",
    "import torch\n",
    "from torch_geometric.data import Dataset, download_url\n",
    "\n",
    "\n",
    "import torch_geometric.transforms as T\n",
    "import torch_geometric.utils\n",
    "\n",
    "import glob, os\n",
    "\n",
    "import networkx as nx\n",
    "\n",
    "import trimesh\n",
    "import pickle\n",
    "\n",
    "\n",
    "# x = pd.read_pickle(\"ZeoGraphs.p\")\n",
    "# for i in x:\n",
    "#     y = torch_geometric.utils.from_networkx(i)\n",
    "#     break"
   ]
  },
  {
   "cell_type": "code",
   "execution_count": 12,
   "metadata": {},
   "outputs": [],
   "source": [
    "class ZeoliteDataset(Dataset):\n",
    "    def __init__(self, root, transform=None, pre_transform=None, pre_filter=None):\n",
    "        super().__init__(root, transform, pre_transform, pre_filter)\n",
    "\n",
    "    @property\n",
    "    def raw_file_names(self):\n",
    "        return list(os.listdir(self.raw_dir))\n",
    "\n",
    "    @property\n",
    "    def processed_file_names(self):\n",
    "        return list(os.listdir(self.processed_dir))\n",
    "\n",
    "    def download(self):\n",
    "        # Download to `self.raw_dir`.\n",
    "        pass\n",
    "\n",
    "    def process(self):\n",
    "        idx = 0\n",
    "        for raw_path in self.raw_paths:\n",
    "            # Read data from `raw_path`.\n",
    "            data = Data()\n",
    "\n",
    "            if self.pre_filter is not None and not self.pre_filter(data):\n",
    "                continue\n",
    "\n",
    "            if self.pre_transform is not None:\n",
    "                data = self.pre_transform(data)\n",
    "\n",
    "            torch.save(data, osp.join(self.processed_dir, f'data_{idx}.pt'))\n",
    "            idx += 1\n",
    "\n",
    "    def len(self):\n",
    "        return len(self.processed_file_names)\n",
    "\n",
    "    def get(self, idx):\n",
    "        data = torch.load(osp.join(self.processed_dir, f'data_{idx}.pt'))\n",
    "        return data\n"
   ]
  },
  {
   "cell_type": "code",
   "execution_count": 13,
   "metadata": {},
   "outputs": [],
   "source": [
    "dataset = ZeoliteDataset(\"pcod2_new\")"
   ]
  },
  {
   "cell_type": "code",
   "execution_count": 14,
   "metadata": {},
   "outputs": [
    {
     "name": "stdout",
     "output_type": "stream",
     "text": [
      "['9000001.cif', '9000049.cif', '9000053.cif', '9000115.cif', '9000128.cif', '9000132.cif', '9000147.cif', '9000168.cif', '9000182.cif', '9000194.cif', '9000203.cif', '9000216.cif', '9000267.cif', '9000289.cif', '9000295.cif', '9000297.cif', '9000313.cif', '9000340.cif', '9000356.cif', '9000374.cif', '9000386.cif', '9000393.cif', '9000405.cif', '9000427.cif', '9000431.cif', '9000457.cif', '9000469.cif', '9000479.cif', '9000507.cif', '9000512.cif', '9000533.cif', '9000538.cif', '9000539.cif', '9000542.cif', '9000543.cif', '9000563.cif', '9000617.cif', '9000647.cif', '9000650.cif', '9000651.cif', '9000655.cif', '9000659.cif', '9000703.cif', '9000720.cif', '9000723.cif', '9000757.cif', '9000758.cif', '9000770.cif', '9000790.cif', '9000798.cif', '9000799.cif', '9000814.cif', '9000823.cif', '9000829.cif', '9000848.cif', '9000851.cif', '9000865.cif', '9000916.cif', '9000948.cif', '9000969.cif', '9000972.cif', '9000975.cif', '9000980.cif', '9000990.cif', '9001009.cif', '9001029.cif', '9001034.cif', '9001038.cif', '9001050.cif', '9001072.cif', '9001076.cif', '9001101.cif', '9001112.cif', '9001151.cif', '9001182.cif', '9001199.cif', '9001202.cif', '9001211.cif', '9001227.cif', '9001296.cif', '9001302.cif', '9001329.cif', '9001336.cif', '9001341.cif', '9001360.cif', '9001368.cif', '9001388.cif', '9001409.cif', '9001410.cif', '9001412.cif', '9001451.cif', '9001464.cif', '9001469.cif', '9001483.cif', '9001505.cif', '9001516.cif', '9001526.cif', '9001533.cif', '9001539.cif', '9001550.cif', '9001563.cif', '9001566.cif', '9001568.cif', '9001571.cif', '9001576.cif', '9001577.cif', '9001579.cif', '9001587.cif', '9001612.cif', '9001619.cif', '9001627.cif', '9001635.cif', '9001666.cif', '9001672.cif', '9001704.cif', '9001718.cif', '9001723.cif', '9001761.cif', '9001783.cif', '9001789.cif', '9001799.cif', '9001816.cif', '9001817.cif', '9001837.cif', '9001852.cif', '9001854.cif', '9001911.cif', '9001923.cif', '9001934.cif', '9001952.cif', '9001962.cif', '9001967.cif', '9001970.cif', '9001975.cif', '9002000.cif', '9002002.cif', '9002004.cif', '9002008.cif', '9002012.cif', '9002017.cif', '9002046.cif', '9002082.cif', '9002093.cif', '9002117.cif', '9002129.cif', '9002131.cif', '9002161.cif', '9002164.cif', '9002168.cif', '9002175.cif', '9002180.cif', '9002190.cif', '9002193.cif', '9002206.cif', '9002228.cif', '9002231.cif', '9002255.cif', '9002271.cif', '9002278.cif', '9002282.cif', '9002291.cif', '9002300.cif', '9002307.cif', '9002313.cif', '9002362.cif', '9002364.cif', '9002386.cif', '9002398.cif', '9002416.cif', '9002420.cif', '9002453.cif', '9002459.cif', '9002469.cif', '9002481.cif', '9002482.cif', '9002486.cif', '9002488.cif', '9002497.cif', '9002522.cif', '9002537.cif', '9002561.cif', '9002592.cif', '9002601.cif', '9002618.cif', '9002631.cif', '9002633.cif', '9002652.cif', '9002662.cif', '9002693.cif', '9002701.cif', '9002712.cif', '9002720.cif', '9002730.cif', '9002732.cif', '9002766.cif', '9002774.cif', '9002817.cif', '9002939.cif', '9002962.cif', '9002972.cif', '9003013.cif', '9003026.cif', '9003034.cif', '9003050.cif', '9003065.cif', '9003087.cif', '9003089.cif', '9003119.cif', '9003128.cif', '9003146.cif', '9003175.cif', '9003210.cif', '9003234.cif', '9003238.cif', '9003256.cif', '9003279.cif', '9003282.cif', '9003295.cif', '9003297.cif', '9003322.cif', '9003334.cif', '9003341.cif', '9003358.cif', '9003365.cif', '9003376.cif', '9003379.cif', '9003381.cif', '9003401.cif', '9003423.cif', '9003427.cif', '9003476.cif', '9003480.cif', '9003484.cif', '9003500.cif', '9003523.cif', '9003528.cif', '9003540.cif', '9003552.cif', '9003560.cif', '9003572.cif', '9003583.cif', '9003627.cif', '9003631.cif', '9003637.cif', '9003651.cif', '9003666.cif', '9003676.cif', '9003687.cif', '9003716.cif', '9003760.cif', '9003789.cif', '9003790.cif', '9003810.cif', '9003811.cif', '9003816.cif', '9003823.cif', '9003871.cif', '9003883.cif', '9003888.cif', '9003898.cif', '9003901.cif', '9003914.cif', '9003922.cif', '9003946.cif', '9003950.cif', '9003959.cif', '9003964.cif', '9003985.cif', '9003993.cif', '9004067.cif', '9004102.cif', '9004137.cif', '9004139.cif', '9004145.cif', '9004162.cif', '9004192.cif', '9004201.cif', '9004208.cif', '9004265.cif', '9004275.cif', '9004282.cif', '9004314.cif', '9004332.cif', '9004334.cif', '9004336.cif', '9004353.cif', '9004396.cif', '9004412.cif', '9004427.cif', '9004429.cif', '9004437.cif', '9004482.cif', '9004492.cif', '9004506.cif', '9004536.cif', '9004540.cif', '9004544.cif', '9004546.cif', '9004574.cif', '9004590.cif', '9004597.cif', '9004616.cif', '9004618.cif', '9004632.cif', '9004642.cif', '9004661.cif', '9004664.cif', '9004697.cif', '9004716.cif', '9004744.cif', '9004746.cif', '9004775.cif', '9004802.cif', '9004814.cif', '9004816.cif', '9004849.cif', '9004878.cif', '9004906.cif', '9004914.cif', '9004940.cif', '9004953.cif', '9004965.cif', '9004974.cif', '9005004.cif', '9005007.cif', '9005027.cif', '9005052.cif', '9005057.cif', '9005078.cif', '9005082.cif', '9005113.cif', '9005127.cif', '9005135.cif', '9005141.cif', '9005143.cif', '9005144.cif', '9005180.cif', '9005196.cif', '9005198.cif', '9005207.cif', '9005215.cif', '9005236.cif', '9005241.cif', '9005259.cif', '9005262.cif', '9005277.cif', '9005318.cif', '9005359.cif', '9005392.cif', '9005400.cif', '9005428.cif', '9005449.cif', '9005471.cif', '9005531.cif', '9005536.cif', '9005565.cif', '9005566.cif', '9005581.cif', '9005596.cif', '9005635.cif', '9005675.cif', '9005698.cif', '9005749.cif', '9005781.cif', '9005792.cif', '9005808.cif', '9005811.cif', '9005829.cif', '9005859.cif', '9005864.cif', '9005874.cif', '9005890.cif', '9005892.cif', '9005920.cif', '9005929.cif', '9005948.cif', '9005974.cif', '9005976.cif', '9005996.cif', '9006007.cif', '9006014.cif', '9006022.cif', '9006038.cif', '9006054.cif', '9006069.cif', '9006128.cif', '9006160.cif', '9006173.cif', '9006181.cif', '9006195.cif', '9006205.cif', '9006206.cif', '9006213.cif', '9006220.cif', '9006250.cif', '9006261.cif', '9006280.cif', '9006287.cif', '9006339.cif', '9006361.cif', '9006369.cif', '9006374.cif', '9006390.cif', '9006394.cif', '9006421.cif', '9006503.cif', '9006526.cif', '9006532.cif', '9006550.cif', '9006555.cif', '9006560.cif', '9006586.cif', '9006589.cif', '9006591.cif', '9006603.cif', '9006618.cif', '9006668.cif', '9006687.cif', '9006705.cif', '9006735.cif', '9006740.cif', '9006757.cif', '9006767.cif', '9006792.cif', '9006815.cif', '9006838.cif', '9006852.cif', '9006897.cif', '9006923.cif', '9006943.cif', '9006968.cif', '9006993.cif', '9007019.cif', '9007043.cif', '9007045.cif', '9007047.cif', '9007053.cif', '9007067.cif', '9007081.cif', '9007082.cif', '9007103.cif', '9007112.cif', '9007120.cif', '9007179.cif', '9007209.cif', '9007229.cif', '9007230.cif', '9007240.cif', '9007253.cif', '9007273.cif', '9007283.cif', '9007294.cif', '9007315.cif', '9007329.cif', '9007332.cif', '9007343.cif', '9007376.cif', '9007387.cif', '9007416.cif', '9007422.cif', '9007444.cif', '9007464.cif', '9007484.cif', '9007485.cif', '9007518.cif', '9007526.cif', '9007539.cif', '9007587.cif', '9007614.cif', '9007622.cif', '9007625.cif', '9007656.cif', '9007663.cif', '9007707.cif', '9007712.cif', '9007745.cif', '9007786.cif', '9007788.cif', '9007802.cif', '9007866.cif', '9007881.cif', '9007890.cif', '9007892.cif', '9007894.cif', '9007903.cif', '9007920.cif', '9007933.cif', '9007943.cif', '9007953.cif', '9007965.cif', '9008004.cif', '9008014.cif', '9008071.cif', '9008076.cif', '9008082.cif', '9008091.cif', '9008151.cif', '9008158.cif', '9008162.cif', '9008186.cif', '9008189.cif', '9008208.cif', '9008238.cif', '9008291.cif', '9008299.cif', '9008301.cif', '9008309.cif', '9008310.cif', '9008320.cif', '9008335.cif', '9008365.cif', '9008375.cif', '9008378.cif', '9008388.cif', '9008412.cif', '9008423.cif', '9008436.cif', '9008445.cif', '9008452.cif', '9008453.cif', '9008459.cif', '9008470.cif', '9008480.cif', '9008496.cif', '9008506.cif', '9008539.cif', '9008549.cif', '9008563.cif', '9008565.cif', '9008575.cif', '9008582.cif', '9008596.cif', '9008599.cif', '9008610.cif', '9008611.cif', '9008613.cif', '9008637.cif', '9008645.cif', '9008654.cif', '9008655.cif', '9008681.cif', '9008693.cif', '9008700.cif', '9008722.cif', '9008754.cif', '9008808.cif', '9008814.cif', '9008831.cif', '9008834.cif', '9008851.cif', '9008874.cif', '9008900.cif', '9008946.cif', '9008951.cif', '9008958.cif', '9008977.cif', '9008983.cif', '9008986.cif', '9009016.cif', '9009030.cif', '9009042.cif', '9009072.cif', '9009073.cif', '9009106.cif', '9009109.cif', '9009135.cif', '9009146.cif', '9009147.cif', '9009153.cif', '9009187.cif', '9009191.cif', '9009245.cif', '9009281.cif', '9009287.cif', '9009305.cif', '9009397.cif', '9009407.cif', '9009408.cif', '9009416.cif', '9009417.cif', '9009422.cif', '9009436.cif', '9009446.cif', '9009450.cif', '9009462.cif', '9009471.cif', '9009488.cif', '9009495.cif', '9009510.cif', '9009526.cif', '9009535.cif', '9009537.cif', '9009562.cif', '9009563.cif', '9009580.cif', '9009589.cif', '9009590.cif', '9009605.cif', '9009659.cif', '9009708.cif', '9009714.cif', '9009718.cif', '9009719.cif', '9009747.cif', '9009757.cif', '9009769.cif', '9009770.cif', '9009811.cif', '9009823.cif', '9009836.cif', '9009859.cif', '9009874.cif', '9009889.cif', '9009968.cif', '9009982.cif', '9009995.cif', '9010007.cif', '9010009.cif', '9010068.cif', '9010080.cif', '9010101.cif', '9010111.cif', '9010131.cif', '9010137.cif', '9010141.cif', '9010199.cif', '9010216.cif', '9010231.cif', '9010238.cif', '9010252.cif', '9010256.cif', '9010266.cif', '9010306.cif', '9010366.cif', '9010425.cif', '9010434.cif', '9010449.cif', '9010473.cif', '9010474.cif', '9010478.cif', '9010491.cif', '9010525.cif', '9010540.cif', '9010560.cif', '9010575.cif', '9010593.cif', '9010611.cif', '9010617.cif', '9010641.cif', '9010673.cif', '9010690.cif', '9010703.cif', '9010739.cif', '9010749.cif', '9010759.cif', '9010780.cif', '9010783.cif', '9010792.cif', '9010881.cif', '9010899.cif', '9010905.cif', '9010932.cif', '9010935.cif', '9010953.cif', '9011005.cif', '9011016.cif', '9011020.cif', '9011021.cif', '9011029.cif', '9011032.cif', '9011048.cif', '9011052.cif', '9011058.cif', '9011069.cif', '9011070.cif', '9011075.cif', '9011082.cif', '9011084.cif', '9011124.cif', '9011125.cif', '9011131.cif', '9011143.cif', '9011144.cif', '9011152.cif', '9011163.cif', '9011166.cif', '9011187.cif', '9011206.cif', '9011216.cif', '9011217.cif', '9011218.cif', '9011247.cif', '9011248.cif', '9011279.cif', '9011284.cif', '9011305.cif', '9011312.cif', '9011315.cif', '9011348.cif', '9011394.cif', '9011395.cif', '9011441.cif', '9011449.cif', '9011526.cif', '9011544.cif', '9011617.cif', '9011621.cif', '9011623.cif', '9011630.cif', '9011700.cif', '9011701.cif', '9011707.cif', '9011763.cif', '9011779.cif', '9011784.cif', '9011806.cif', '9011825.cif', '9011843.cif', '9011847.cif', '9011849.cif', '9011878.cif', '9011883.cif', '9011884.cif', '9011948.cif', '9011951.cif', '9011956.cif', '9011970.cif', '9011998.cif', '9011999.cif', '9012004.cif', '9012022.cif', '9012024.cif', '9012027.cif', '9012044.cif', '9012056.cif', '9012060.cif', '9012075.cif', '9012103.cif', '9012169.cif', '9012176.cif', '9012185.cif', '9012198.cif', '9012210.cif', '9012237.cif', '9012241.cif', '9012266.cif', '9012298.cif', '9012302.cif', '9012325.cif', '9012351.cif', '9012364.cif', '9012369.cif', '9012389.cif', '9012409.cif', '9012411.cif', '9012415.cif', '9012449.cif', '9012452.cif', '9012458.cif', '9012499.cif', '9012505.cif', '9012510.cif', '9012540.cif', '9012548.cif', '9012549.cif', '9012574.cif', '9012593.cif', '9012600.cif', '9012603.cif', '9012611.cif', '9012613.cif', '9012622.cif', '9012629.cif', '9012640.cif', '9012642.cif', '9012647.cif', '9012649.cif', '9012721.cif', '9012735.cif', '9012754.cif', '9012785.cif', '9012789.cif', '9012829.cif', '9012830.cif', '9012841.cif', '9012851.cif', '9012855.cif', '9012869.cif', '9012893.cif', '9012909.cif', '9012920.cif', '9012924.cif', '9012926.cif', '9012984.cif', '9013013.cif', '9013020.cif', '9013041.cif', '9013092.cif', '9013093.cif', '9013116.cif', '9013132.cif', '9013166.cif', '9013173.cif', '9013178.cif', '9013197.cif', '9013211.cif', '9013214.cif', '9013217.cif', '9013223.cif', '9013256.cif', '9013268.cif', '9013295.cif', '9013301.cif', '9013307.cif', '9013324.cif', '9013339.cif', '9013347.cif', '9013349.cif', '9013366.cif', '9013367.cif', '9013382.cif', '9013389.cif', '9013403.cif', '9013422.cif', '9013458.cif', '9013486.cif', '9013506.cif', '9013513.cif', '9013515.cif', '9013530.cif', '9013539.cif', '9013550.cif', '9013552.cif', '9013553.cif', '9013564.cif', '9013567.cif', '9013580.cif', '9013589.cif', '9013600.cif', '9013665.cif', '9013671.cif', '9013702.cif', '9013718.cif', '9013740.cif', '9013774.cif', '9013810.cif', '9013835.cif', '9013836.cif', '9013863.cif', '9013888.cif', '9013893.cif', '9013894.cif', '9013913.cif', '9013924.cif', '9013930.cif', '9013938.cif', '9013940.cif', '9013967.cif', '9013975.cif', '9013999.cif', '9014017.cif', '9014050.cif', '9014057.cif', '9014058.cif', '9014072.cif', '9014088.cif', '9014111.cif', '9014135.cif', '9014163.cif', '9014180.cif', '9014210.cif', '9014212.cif', '9014224.cif', '9014231.cif', '9014244.cif', '9014291.cif', '9014299.cif', '9014328.cif', '9014389.cif', '9014392.cif', '9014407.cif', '9014413.cif', '9014418.cif', '9014456.cif', '9014462.cif', '9014490.cif', '9014491.cif', '9014497.cif', '9014502.cif', '9014507.cif', '9014548.cif', '9014576.cif', '9014600.cif', '9014627.cif', '9014638.cif', '9014645.cif', '9014649.cif', '9014654.cif', '9014656.cif', '9014673.cif', '9014689.cif', '9014690.cif', '9014705.cif', '9014743.cif', '9014746.cif', '9014753.cif', '9014755.cif', '9014764.cif', '9014767.cif', '9014768.cif', '9014781.cif', '9014801.cif', '9014811.cif', '9014836.cif', '9014915.cif', '9014916.cif', '9014919.cif', '9014937.cif', '9014959.cif', '9014982.cif', '9014995.cif', '9014996.cif', '9014997.cif', '9015010.cif', '9015018.cif', '9015039.cif', '9015063.cif', '9015066.cif', '9015075.cif', '9015093.cif', '9015098.cif', '9015118.cif', '9015129.cif', '9015150.cif', '9015169.cif', '9015174.cif', '9015177.cif', '9015209.cif', '9015225.cif', '9015304.cif', '9015313.cif', '9015333.cif', '9015341.cif', '9015352.cif', '9015366.cif', '9015386.cif', '9015391.cif', '9015412.cif', '9015420.cif', '9015423.cif', '9015441.cif', '9015465.cif', '9015490.cif', '9015491.cif', '9015494.cif', '9015495.cif', '9015501.cif', '9015506.cif', '9015543.cif', '9015556.cif', '9015572.cif', '9015575.cif', '9015582.cif', '9015600.cif', '9015612.cif', '9015618.cif', '9015641.cif', '9015664.cif', '9015669.cif', '9015681.cif', '9015687.cif', '9015706.cif', '9015718.cif', '9015731.cif', '9015741.cif', '9015774.cif', '9015801.cif', '9015802.cif', '9015807.cif', '9015815.cif', '9015822.cif', '9015836.cif', '9015849.cif', '9015864.cif', '9015876.cif', '9015913.cif', '9015949.cif']\n",
      "['data_0.pt', 'data_1.pt', 'data_10.pt', 'data_100.pt', 'data_101.pt', 'data_102.pt', 'data_103.pt', 'data_104.pt', 'data_105.pt', 'data_106.pt', 'data_107.pt', 'data_108.pt', 'data_109.pt', 'data_11.pt', 'data_110.pt', 'data_111.pt', 'data_112.pt', 'data_113.pt', 'data_114.pt', 'data_115.pt', 'data_116.pt', 'data_117.pt', 'data_118.pt', 'data_119.pt', 'data_12.pt', 'data_120.pt', 'data_121.pt', 'data_122.pt', 'data_123.pt', 'data_124.pt', 'data_125.pt', 'data_126.pt', 'data_127.pt', 'data_128.pt', 'data_129.pt', 'data_13.pt', 'data_130.pt', 'data_131.pt', 'data_132.pt', 'data_133.pt', 'data_134.pt', 'data_135.pt', 'data_136.pt', 'data_137.pt', 'data_138.pt', 'data_139.pt', 'data_14.pt', 'data_140.pt', 'data_141.pt', 'data_142.pt', 'data_143.pt', 'data_144.pt', 'data_145.pt', 'data_146.pt', 'data_147.pt', 'data_148.pt', 'data_149.pt', 'data_15.pt', 'data_150.pt', 'data_151.pt', 'data_152.pt', 'data_153.pt', 'data_154.pt', 'data_155.pt', 'data_156.pt', 'data_157.pt', 'data_158.pt', 'data_159.pt', 'data_16.pt', 'data_160.pt', 'data_161.pt', 'data_162.pt', 'data_163.pt', 'data_164.pt', 'data_165.pt', 'data_166.pt', 'data_167.pt', 'data_168.pt', 'data_169.pt', 'data_17.pt', 'data_170.pt', 'data_171.pt', 'data_172.pt', 'data_173.pt', 'data_174.pt', 'data_175.pt', 'data_176.pt', 'data_177.pt', 'data_178.pt', 'data_179.pt', 'data_18.pt', 'data_180.pt', 'data_181.pt', 'data_182.pt', 'data_183.pt', 'data_184.pt', 'data_185.pt', 'data_186.pt', 'data_187.pt', 'data_188.pt', 'data_189.pt', 'data_19.pt', 'data_190.pt', 'data_191.pt', 'data_192.pt', 'data_193.pt', 'data_194.pt', 'data_195.pt', 'data_196.pt', 'data_197.pt', 'data_198.pt', 'data_199.pt', 'data_2.pt', 'data_20.pt', 'data_200.pt', 'data_201.pt', 'data_202.pt', 'data_203.pt', 'data_204.pt', 'data_205.pt', 'data_206.pt', 'data_207.pt', 'data_208.pt', 'data_209.pt', 'data_21.pt', 'data_210.pt', 'data_211.pt', 'data_212.pt', 'data_213.pt', 'data_214.pt', 'data_215.pt', 'data_216.pt', 'data_217.pt', 'data_218.pt', 'data_219.pt', 'data_22.pt', 'data_220.pt', 'data_221.pt', 'data_222.pt', 'data_223.pt', 'data_224.pt', 'data_225.pt', 'data_226.pt', 'data_227.pt', 'data_228.pt', 'data_229.pt', 'data_23.pt', 'data_230.pt', 'data_231.pt', 'data_232.pt', 'data_233.pt', 'data_234.pt', 'data_235.pt', 'data_236.pt', 'data_237.pt', 'data_238.pt', 'data_239.pt', 'data_24.pt', 'data_240.pt', 'data_241.pt', 'data_242.pt', 'data_243.pt', 'data_244.pt', 'data_245.pt', 'data_246.pt', 'data_247.pt', 'data_248.pt', 'data_249.pt', 'data_25.pt', 'data_250.pt', 'data_251.pt', 'data_252.pt', 'data_253.pt', 'data_254.pt', 'data_255.pt', 'data_256.pt', 'data_257.pt', 'data_258.pt', 'data_259.pt', 'data_26.pt', 'data_260.pt', 'data_261.pt', 'data_262.pt', 'data_263.pt', 'data_264.pt', 'data_265.pt', 'data_266.pt', 'data_267.pt', 'data_268.pt', 'data_269.pt', 'data_27.pt', 'data_270.pt', 'data_271.pt', 'data_272.pt', 'data_273.pt', 'data_274.pt', 'data_275.pt', 'data_276.pt', 'data_277.pt', 'data_278.pt', 'data_279.pt', 'data_28.pt', 'data_280.pt', 'data_281.pt', 'data_282.pt', 'data_283.pt', 'data_284.pt', 'data_285.pt', 'data_286.pt', 'data_287.pt', 'data_288.pt', 'data_289.pt', 'data_29.pt', 'data_290.pt', 'data_291.pt', 'data_292.pt', 'data_293.pt', 'data_294.pt', 'data_295.pt', 'data_296.pt', 'data_297.pt', 'data_298.pt', 'data_299.pt', 'data_3.pt', 'data_30.pt', 'data_300.pt', 'data_301.pt', 'data_302.pt', 'data_303.pt', 'data_304.pt', 'data_305.pt', 'data_306.pt', 'data_307.pt', 'data_308.pt', 'data_309.pt', 'data_31.pt', 'data_310.pt', 'data_311.pt', 'data_312.pt', 'data_313.pt', 'data_314.pt', 'data_315.pt', 'data_316.pt', 'data_317.pt', 'data_318.pt', 'data_319.pt', 'data_32.pt', 'data_320.pt', 'data_321.pt', 'data_322.pt', 'data_323.pt', 'data_324.pt', 'data_325.pt', 'data_326.pt', 'data_327.pt', 'data_328.pt', 'data_329.pt', 'data_33.pt', 'data_330.pt', 'data_331.pt', 'data_332.pt', 'data_333.pt', 'data_334.pt', 'data_335.pt', 'data_336.pt', 'data_337.pt', 'data_338.pt', 'data_339.pt', 'data_34.pt', 'data_340.pt', 'data_341.pt', 'data_342.pt', 'data_343.pt', 'data_344.pt', 'data_345.pt', 'data_346.pt', 'data_347.pt', 'data_348.pt', 'data_349.pt', 'data_35.pt', 'data_350.pt', 'data_351.pt', 'data_352.pt', 'data_353.pt', 'data_354.pt', 'data_355.pt', 'data_356.pt', 'data_357.pt', 'data_358.pt', 'data_359.pt', 'data_36.pt', 'data_360.pt', 'data_361.pt', 'data_362.pt', 'data_363.pt', 'data_364.pt', 'data_365.pt', 'data_366.pt', 'data_367.pt', 'data_368.pt', 'data_369.pt', 'data_37.pt', 'data_370.pt', 'data_371.pt', 'data_372.pt', 'data_373.pt', 'data_374.pt', 'data_375.pt', 'data_376.pt', 'data_377.pt', 'data_378.pt', 'data_379.pt', 'data_38.pt', 'data_380.pt', 'data_381.pt', 'data_382.pt', 'data_383.pt', 'data_384.pt', 'data_385.pt', 'data_386.pt', 'data_387.pt', 'data_388.pt', 'data_389.pt', 'data_39.pt', 'data_390.pt', 'data_391.pt', 'data_392.pt', 'data_393.pt', 'data_394.pt', 'data_395.pt', 'data_396.pt', 'data_397.pt', 'data_398.pt', 'data_399.pt', 'data_4.pt', 'data_40.pt', 'data_400.pt', 'data_401.pt', 'data_402.pt', 'data_403.pt', 'data_404.pt', 'data_405.pt', 'data_406.pt', 'data_407.pt', 'data_408.pt', 'data_409.pt', 'data_41.pt', 'data_410.pt', 'data_411.pt', 'data_412.pt', 'data_413.pt', 'data_414.pt', 'data_415.pt', 'data_416.pt', 'data_417.pt', 'data_418.pt', 'data_419.pt', 'data_42.pt', 'data_420.pt', 'data_421.pt', 'data_422.pt', 'data_423.pt', 'data_424.pt', 'data_425.pt', 'data_426.pt', 'data_427.pt', 'data_428.pt', 'data_429.pt', 'data_43.pt', 'data_430.pt', 'data_431.pt', 'data_432.pt', 'data_433.pt', 'data_434.pt', 'data_435.pt', 'data_436.pt', 'data_437.pt', 'data_438.pt', 'data_439.pt', 'data_44.pt', 'data_440.pt', 'data_441.pt', 'data_442.pt', 'data_443.pt', 'data_444.pt', 'data_445.pt', 'data_446.pt', 'data_447.pt', 'data_448.pt', 'data_449.pt', 'data_45.pt', 'data_450.pt', 'data_451.pt', 'data_452.pt', 'data_453.pt', 'data_454.pt', 'data_455.pt', 'data_456.pt', 'data_457.pt', 'data_458.pt', 'data_459.pt', 'data_46.pt', 'data_460.pt', 'data_461.pt', 'data_462.pt', 'data_463.pt', 'data_464.pt', 'data_465.pt', 'data_466.pt', 'data_467.pt', 'data_468.pt', 'data_469.pt', 'data_47.pt', 'data_470.pt', 'data_471.pt', 'data_472.pt', 'data_473.pt', 'data_474.pt', 'data_475.pt', 'data_476.pt', 'data_477.pt', 'data_478.pt', 'data_479.pt', 'data_48.pt', 'data_480.pt', 'data_481.pt', 'data_482.pt', 'data_483.pt', 'data_484.pt', 'data_485.pt', 'data_486.pt', 'data_487.pt', 'data_488.pt', 'data_489.pt', 'data_49.pt', 'data_490.pt', 'data_491.pt', 'data_492.pt', 'data_493.pt', 'data_494.pt', 'data_495.pt', 'data_496.pt', 'data_497.pt', 'data_498.pt', 'data_499.pt', 'data_5.pt', 'data_50.pt', 'data_500.pt', 'data_501.pt', 'data_502.pt', 'data_503.pt', 'data_504.pt', 'data_505.pt', 'data_506.pt', 'data_507.pt', 'data_508.pt', 'data_509.pt', 'data_51.pt', 'data_510.pt', 'data_511.pt', 'data_512.pt', 'data_513.pt', 'data_514.pt', 'data_515.pt', 'data_516.pt', 'data_517.pt', 'data_518.pt', 'data_519.pt', 'data_52.pt', 'data_520.pt', 'data_521.pt', 'data_522.pt', 'data_523.pt', 'data_524.pt', 'data_525.pt', 'data_526.pt', 'data_527.pt', 'data_528.pt', 'data_529.pt', 'data_53.pt', 'data_530.pt', 'data_531.pt', 'data_532.pt', 'data_533.pt', 'data_534.pt', 'data_535.pt', 'data_536.pt', 'data_537.pt', 'data_538.pt', 'data_539.pt', 'data_54.pt', 'data_540.pt', 'data_541.pt', 'data_542.pt', 'data_543.pt', 'data_544.pt', 'data_545.pt', 'data_546.pt', 'data_547.pt', 'data_548.pt', 'data_549.pt', 'data_55.pt', 'data_550.pt', 'data_551.pt', 'data_552.pt', 'data_553.pt', 'data_554.pt', 'data_555.pt', 'data_556.pt', 'data_557.pt', 'data_558.pt', 'data_559.pt', 'data_56.pt', 'data_560.pt', 'data_561.pt', 'data_562.pt', 'data_563.pt', 'data_564.pt', 'data_565.pt', 'data_566.pt', 'data_567.pt', 'data_568.pt', 'data_569.pt', 'data_57.pt', 'data_570.pt', 'data_571.pt', 'data_572.pt', 'data_573.pt', 'data_574.pt', 'data_575.pt', 'data_576.pt', 'data_577.pt', 'data_578.pt', 'data_579.pt', 'data_58.pt', 'data_580.pt', 'data_581.pt', 'data_582.pt', 'data_583.pt', 'data_584.pt', 'data_585.pt', 'data_586.pt', 'data_587.pt', 'data_588.pt', 'data_589.pt', 'data_59.pt', 'data_590.pt', 'data_591.pt', 'data_592.pt', 'data_593.pt', 'data_594.pt', 'data_595.pt', 'data_596.pt', 'data_597.pt', 'data_598.pt', 'data_599.pt', 'data_6.pt', 'data_60.pt', 'data_600.pt', 'data_601.pt', 'data_602.pt', 'data_603.pt', 'data_604.pt', 'data_605.pt', 'data_606.pt', 'data_607.pt', 'data_608.pt', 'data_609.pt', 'data_61.pt', 'data_610.pt', 'data_611.pt', 'data_612.pt', 'data_613.pt', 'data_614.pt', 'data_615.pt', 'data_616.pt', 'data_617.pt', 'data_618.pt', 'data_619.pt', 'data_62.pt', 'data_620.pt', 'data_621.pt', 'data_622.pt', 'data_623.pt', 'data_624.pt', 'data_625.pt', 'data_626.pt', 'data_627.pt', 'data_628.pt', 'data_629.pt', 'data_63.pt', 'data_630.pt', 'data_631.pt', 'data_632.pt', 'data_633.pt', 'data_634.pt', 'data_635.pt', 'data_636.pt', 'data_637.pt', 'data_638.pt', 'data_639.pt', 'data_64.pt', 'data_640.pt', 'data_641.pt', 'data_642.pt', 'data_643.pt', 'data_644.pt', 'data_645.pt', 'data_646.pt', 'data_647.pt', 'data_648.pt', 'data_649.pt', 'data_65.pt', 'data_650.pt', 'data_651.pt', 'data_652.pt', 'data_653.pt', 'data_654.pt', 'data_655.pt', 'data_656.pt', 'data_657.pt', 'data_658.pt', 'data_659.pt', 'data_66.pt', 'data_660.pt', 'data_661.pt', 'data_662.pt', 'data_663.pt', 'data_664.pt', 'data_665.pt', 'data_666.pt', 'data_667.pt', 'data_668.pt', 'data_669.pt', 'data_67.pt', 'data_670.pt', 'data_671.pt', 'data_672.pt', 'data_673.pt', 'data_674.pt', 'data_675.pt', 'data_676.pt', 'data_677.pt', 'data_678.pt', 'data_679.pt', 'data_68.pt', 'data_680.pt', 'data_681.pt', 'data_682.pt', 'data_683.pt', 'data_684.pt', 'data_685.pt', 'data_686.pt', 'data_687.pt', 'data_688.pt', 'data_689.pt', 'data_69.pt', 'data_690.pt', 'data_691.pt', 'data_692.pt', 'data_693.pt', 'data_694.pt', 'data_695.pt', 'data_696.pt', 'data_697.pt', 'data_698.pt', 'data_699.pt', 'data_7.pt', 'data_70.pt', 'data_700.pt', 'data_701.pt', 'data_702.pt', 'data_703.pt', 'data_704.pt', 'data_705.pt', 'data_706.pt', 'data_707.pt', 'data_708.pt', 'data_709.pt', 'data_71.pt', 'data_710.pt', 'data_711.pt', 'data_712.pt', 'data_713.pt', 'data_714.pt', 'data_715.pt', 'data_716.pt', 'data_717.pt', 'data_718.pt', 'data_719.pt', 'data_72.pt', 'data_720.pt', 'data_721.pt', 'data_722.pt', 'data_723.pt', 'data_724.pt', 'data_725.pt', 'data_726.pt', 'data_727.pt', 'data_728.pt', 'data_729.pt', 'data_73.pt', 'data_730.pt', 'data_731.pt', 'data_732.pt', 'data_733.pt', 'data_734.pt', 'data_735.pt', 'data_736.pt', 'data_737.pt', 'data_738.pt', 'data_739.pt', 'data_74.pt', 'data_740.pt', 'data_741.pt', 'data_742.pt', 'data_743.pt', 'data_744.pt', 'data_745.pt', 'data_746.pt', 'data_747.pt', 'data_748.pt', 'data_749.pt', 'data_75.pt', 'data_750.pt', 'data_751.pt', 'data_752.pt', 'data_753.pt', 'data_754.pt', 'data_755.pt', 'data_756.pt', 'data_757.pt', 'data_758.pt', 'data_759.pt', 'data_76.pt', 'data_760.pt', 'data_761.pt', 'data_762.pt', 'data_763.pt', 'data_764.pt', 'data_765.pt', 'data_766.pt', 'data_767.pt', 'data_768.pt', 'data_769.pt', 'data_77.pt', 'data_770.pt', 'data_771.pt', 'data_772.pt', 'data_773.pt', 'data_774.pt', 'data_775.pt', 'data_776.pt', 'data_777.pt', 'data_778.pt', 'data_779.pt', 'data_78.pt', 'data_780.pt', 'data_781.pt', 'data_782.pt', 'data_783.pt', 'data_784.pt', 'data_785.pt', 'data_786.pt', 'data_787.pt', 'data_788.pt', 'data_789.pt', 'data_79.pt', 'data_790.pt', 'data_791.pt', 'data_792.pt', 'data_793.pt', 'data_794.pt', 'data_795.pt', 'data_796.pt', 'data_797.pt', 'data_798.pt', 'data_799.pt', 'data_8.pt', 'data_80.pt', 'data_800.pt', 'data_801.pt', 'data_802.pt', 'data_803.pt', 'data_804.pt', 'data_805.pt', 'data_806.pt', 'data_807.pt', 'data_808.pt', 'data_809.pt', 'data_81.pt', 'data_810.pt', 'data_811.pt', 'data_812.pt', 'data_813.pt', 'data_814.pt', 'data_815.pt', 'data_816.pt', 'data_817.pt', 'data_818.pt', 'data_819.pt', 'data_82.pt', 'data_820.pt', 'data_821.pt', 'data_822.pt', 'data_823.pt', 'data_824.pt', 'data_825.pt', 'data_826.pt', 'data_827.pt', 'data_828.pt', 'data_829.pt', 'data_83.pt', 'data_830.pt', 'data_831.pt', 'data_832.pt', 'data_833.pt', 'data_834.pt', 'data_835.pt', 'data_836.pt', 'data_837.pt', 'data_838.pt', 'data_839.pt', 'data_84.pt', 'data_840.pt', 'data_841.pt', 'data_842.pt', 'data_843.pt', 'data_844.pt', 'data_845.pt', 'data_846.pt', 'data_847.pt', 'data_848.pt', 'data_849.pt', 'data_85.pt', 'data_850.pt', 'data_851.pt', 'data_852.pt', 'data_853.pt', 'data_854.pt', 'data_855.pt', 'data_856.pt', 'data_857.pt', 'data_858.pt', 'data_859.pt', 'data_86.pt', 'data_860.pt', 'data_861.pt', 'data_862.pt', 'data_863.pt', 'data_864.pt', 'data_865.pt', 'data_866.pt', 'data_867.pt', 'data_868.pt', 'data_869.pt', 'data_87.pt', 'data_870.pt', 'data_871.pt', 'data_872.pt', 'data_873.pt', 'data_874.pt', 'data_875.pt', 'data_876.pt', 'data_877.pt', 'data_878.pt', 'data_879.pt', 'data_88.pt', 'data_880.pt', 'data_881.pt', 'data_882.pt', 'data_883.pt', 'data_884.pt', 'data_885.pt', 'data_886.pt', 'data_887.pt', 'data_888.pt', 'data_889.pt', 'data_89.pt', 'data_890.pt', 'data_891.pt', 'data_892.pt', 'data_893.pt', 'data_894.pt', 'data_895.pt', 'data_896.pt', 'data_897.pt', 'data_898.pt', 'data_899.pt', 'data_9.pt', 'data_90.pt', 'data_900.pt', 'data_901.pt', 'data_902.pt', 'data_903.pt', 'data_904.pt', 'data_905.pt', 'data_906.pt', 'data_907.pt', 'data_908.pt', 'data_909.pt', 'data_91.pt', 'data_910.pt', 'data_911.pt', 'data_912.pt', 'data_913.pt', 'data_914.pt', 'data_915.pt', 'data_916.pt', 'data_917.pt', 'data_918.pt', 'data_919.pt', 'data_92.pt', 'data_920.pt', 'data_921.pt', 'data_922.pt', 'data_923.pt', 'data_924.pt', 'data_925.pt', 'data_926.pt', 'data_927.pt', 'data_928.pt', 'data_929.pt', 'data_93.pt', 'data_930.pt', 'data_931.pt', 'data_932.pt', 'data_933.pt', 'data_934.pt', 'data_935.pt', 'data_936.pt', 'data_937.pt', 'data_938.pt', 'data_939.pt', 'data_94.pt', 'data_940.pt', 'data_941.pt', 'data_942.pt', 'data_943.pt', 'data_944.pt', 'data_945.pt', 'data_946.pt', 'data_947.pt', 'data_948.pt', 'data_949.pt', 'data_95.pt', 'data_950.pt', 'data_951.pt', 'data_952.pt', 'data_953.pt', 'data_954.pt', 'data_955.pt', 'data_956.pt', 'data_957.pt', 'data_958.pt', 'data_959.pt', 'data_96.pt', 'data_960.pt', 'data_961.pt', 'data_962.pt', 'data_963.pt', 'data_964.pt', 'data_965.pt', 'data_966.pt', 'data_967.pt', 'data_968.pt', 'data_969.pt', 'data_97.pt', 'data_970.pt', 'data_971.pt', 'data_972.pt', 'data_973.pt', 'data_974.pt', 'data_975.pt', 'data_976.pt', 'data_977.pt', 'data_978.pt', 'data_979.pt', 'data_98.pt', 'data_980.pt', 'data_981.pt', 'data_982.pt', 'data_983.pt', 'data_984.pt', 'data_985.pt', 'data_986.pt', 'data_99.pt', 'pre_filter.pt', 'pre_transform.pt']\n"
     ]
    }
   ],
   "source": [
    "print(dataset.raw_file_names)\n",
    "print(dataset.processed_file_names)"
   ]
  },
  {
   "cell_type": "code",
   "execution_count": 19,
   "metadata": {},
   "outputs": [
    {
     "name": "stdout",
     "output_type": "stream",
     "text": [
      "DataBatch()\n",
      "DataBatch()\n",
      "DataBatch()\n",
      "DataBatch()\n",
      "DataBatch()\n",
      "DataBatch()\n",
      "DataBatch()\n",
      "DataBatch()\n",
      "DataBatch()\n",
      "DataBatch()\n",
      "DataBatch()\n",
      "DataBatch()\n",
      "DataBatch()\n",
      "DataBatch()\n",
      "DataBatch()\n",
      "DataBatch()\n"
     ]
    }
   ],
   "source": [
    "loader = DataLoader(dataset,batch_size=64)\n",
    "i = 0\n",
    "for data in loader:\n",
    "    print(data)"
   ]
  },
  {
   "cell_type": "code",
   "execution_count": null,
   "metadata": {},
   "outputs": [],
   "source": []
  }
 ],
 "metadata": {
  "kernelspec": {
   "display_name": "ZeoliteGenProject_cuda",
   "language": "python",
   "name": "python3"
  },
  "language_info": {
   "codemirror_mode": {
    "name": "ipython",
    "version": 3
   },
   "file_extension": ".py",
   "mimetype": "text/x-python",
   "name": "python",
   "nbconvert_exporter": "python",
   "pygments_lexer": "ipython3",
   "version": "3.9.16"
  },
  "orig_nbformat": 4
 },
 "nbformat": 4,
 "nbformat_minor": 2
}
