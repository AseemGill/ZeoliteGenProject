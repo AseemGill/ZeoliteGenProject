{
 "cells": [
  {
   "cell_type": "code",
   "execution_count": 12,
   "metadata": {},
   "outputs": [],
   "source": [
    "import pandas as pd\n",
    "#Import Packages\n",
    "import os\n",
    "import numpy as np\n",
    "import pandas as pd\n",
    "import os.path as osp\n",
    "from torch_geometric.data import Dataset\n",
    "from torch_geometric.loader import DataLoader\n",
    "import torch_geometric.transforms as T\n",
    "import networkx as nx\n",
    "import torch"
   ]
  },
  {
   "cell_type": "code",
   "execution_count": 22,
   "metadata": {},
   "outputs": [],
   "source": [
    "class ZeoliteDataset(Dataset):\n",
    "    def __init__(self, root, transform=None, pre_transform=None, pre_filter=None):\n",
    "        super(ZeoliteDataset, self).__init__(root, transform, pre_transform, pre_filter)\n",
    "\n",
    "    @property\n",
    "    def raw_file_names(self):\n",
    "        return ['ZeoGraphs.p', 'ZeoUnitCells.']\n",
    "\n",
    "    @property\n",
    "    def processed_file_names(self):\n",
    "        return os.listdir(self.processed_dir)\n",
    "    \n",
    "    def download(self):\n",
    "        pass\n",
    "    \n",
    "    def process(self):\n",
    "        idx = 0\n",
    "        self.graphs = pd.read_pickle(self.raw_paths[0])\n",
    "        max_graph_size = 432\n",
    "\n",
    "        if  not os.listdir(self.processed_dir):\n",
    "            for graph in self.graphs:\n",
    "                # Read data from `raw_path\n",
    "                adj = torch.zeros(max_graph_size, max_graph_size)\n",
    "\n",
    "                graph_tmp = torch.from_numpy(nx.to_numpy_array(graph))\n",
    "                adj = np.pad(graph_tmp, ((0, max_graph_size - graph_tmp.shape[1]), (0, max_graph_size - graph_tmp.shape[0])), \"constant\",constant_values = (0,0))\n",
    "                adj = torch.from_numpy(adj)\n",
    "\n",
    "\n",
    "                if self.pre_filter is not None and not self.pre_filter(data):\n",
    "                    continue\n",
    "\n",
    "                if self.pre_transform is not None:\n",
    "                    data = self.pre_transform(data)\n",
    "\n",
    "                torch.save(adj, osp.join(self.processed_dir, f'data_{idx}.pt'))\n",
    "                idx += 1\n",
    "\n",
    "    def len(self):\n",
    "        return len(self.processed_file_names)\n",
    "\n",
    "    def get(self, idx):\n",
    "        data = torch.load(osp.join(self.processed_dir, f'data_{idx}.pt'))\n",
    "        return data\n",
    "    \n",
    "\n"
   ]
  },
  {
   "cell_type": "code",
   "execution_count": 23,
   "metadata": {},
   "outputs": [
    {
     "name": "stderr",
     "output_type": "stream",
     "text": [
      "Processing...\n",
      "Done!\n"
     ]
    }
   ],
   "source": [
    "dataset = ZeoliteDataset(\"Repeated_Cells_1x\")"
   ]
  },
  {
   "cell_type": "code",
   "execution_count": null,
   "metadata": {},
   "outputs": [],
   "source": [
    "loader = DataLoader(dataset,batch_size=64,shuffle=True)"
   ]
  },
  {
   "cell_type": "code",
   "execution_count": null,
   "metadata": {},
   "outputs": [
    {
     "name": "stdout",
     "output_type": "stream",
     "text": [
      "torch.Size([64, 432, 432])\n",
      "torch.Size([64, 432, 432])\n",
      "torch.Size([64, 432, 432])\n",
      "torch.Size([64, 432, 432])\n",
      "torch.Size([64, 432, 432])\n",
      "torch.Size([64, 432, 432])\n",
      "torch.Size([64, 432, 432])\n",
      "torch.Size([64, 432, 432])\n",
      "torch.Size([64, 432, 432])\n",
      "torch.Size([64, 432, 432])\n",
      "torch.Size([64, 432, 432])\n",
      "torch.Size([64, 432, 432])\n",
      "torch.Size([64, 432, 432])\n",
      "torch.Size([64, 432, 432])\n",
      "torch.Size([64, 432, 432])\n",
      "torch.Size([64, 432, 432])\n",
      "torch.Size([64, 432, 432])\n",
      "torch.Size([64, 432, 432])\n",
      "torch.Size([64, 432, 432])\n",
      "torch.Size([64, 432, 432])\n",
      "torch.Size([64, 432, 432])\n",
      "torch.Size([64, 432, 432])\n",
      "torch.Size([64, 432, 432])\n",
      "torch.Size([64, 432, 432])\n",
      "torch.Size([50, 432, 432])\n"
     ]
    }
   ],
   "source": [
    "i = 0\n",
    "for data in loader:\n",
    "    print(data.shape)"
   ]
  }
 ],
 "metadata": {
  "kernelspec": {
   "display_name": "ZeoliteGenProject_cuda",
   "language": "python",
   "name": "python3"
  },
  "language_info": {
   "codemirror_mode": {
    "name": "ipython",
    "version": 3
   },
   "file_extension": ".py",
   "mimetype": "text/x-python",
   "name": "python",
   "nbconvert_exporter": "python",
   "pygments_lexer": "ipython3",
   "version": "3.9.16"
  },
  "orig_nbformat": 4
 },
 "nbformat": 4,
 "nbformat_minor": 2
}
